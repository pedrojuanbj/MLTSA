{
 "cells": [
  {
   "cell_type": "markdown",
   "metadata": {
    "pycharm": {
     "metadata": false
    }
   },
   "source": [
    "# MLTSA vs Feature Permutations\n",
    "\n",
    "###### *Note that this Jupyter Notebook requires you to have the MLTSA package installed."
   ]
  },
  {
   "cell_type": "markdown",
   "metadata": {},
   "source": [
    "As usual with MLTSA experiments we first create the 1D analytical model dataset."
   ]
  },
  {
   "cell_type": "code",
   "execution_count": 2,
   "metadata": {},
   "outputs": [
    {
     "name": "stderr",
     "output_type": "stream",
     "text": [
      "Defining Potentials: 100%|############################################################| 25/25 [00:00<00:00, 174.19it/s]\n"
     ]
    }
   ],
   "source": [
    "\"\"\"First we import our dataset examples\"\"\"\n",
    "from MLTSA_datasets.OneD_pot.OneD_pot_data import potentials #We import the potentials class which will define them.\n",
    "from MLTSA_datasets.OneD_pot.OneD_pot_data import dataset #We import the dataset class which will hold our potentials.\n",
    "import matplotlib.pyplot as plt\n",
    "import numpy as np\n",
    "\n",
    "#This cell sets the potentials, don't re-run\n",
    "total_n_pots = 25\n",
    "n_DW = 5\n",
    "relevant_DW_n = 2\n",
    "#After defining the desired parameters we define the potentials accordingly\n",
    "pots = potentials(total_n_pots, n_DW, relevant_DW_n)\n",
    "# This creates the first dataset of data.\n",
    "n_features = 180\n",
    "degree_of_mixing = 2\n",
    "#We specified the number of features wanted and how much they will mix\n",
    "oneD_dataset = dataset(pots, n_features, degree_of_mixing)"
   ]
  },
  {
   "cell_type": "markdown",
   "metadata": {
    "pycharm": {}
   },
   "source": [
    "Once the dataset has been created we generate the data we will use over the comparison"
   ]
  },
  {
   "cell_type": "code",
   "execution_count": 3,
   "metadata": {
    "pycharm": {
     "name": "#%%\n"
    }
   },
   "outputs": [
    {
     "name": "stderr",
     "output_type": "stream",
     "text": [
      "Running Simulations: 100%|###########################################################| 100/100 [00:25<00:00,  3.86it/s]\n",
      "Classifying Simulation Outcomes: 100%|###########################################| 100/100 [00:00<00:00, 100054.96it/s]\n",
      "Running Simulations: 100%|#############################################################| 50/50 [00:13<00:00,  3.83it/s]\n",
      "Classifying Simulation Outcomes: 100%|#########################################################| 50/50 [00:00<?, ?it/s]\n"
     ]
    },
    {
     "name": "stdout",
     "output_type": "stream",
     "text": [
      "Generating dataset\n",
      "Getting simulation labels for the generated data\n",
      "Generating dataset\n",
      "Getting simulation labels for the generated data\n"
     ]
    }
   ],
   "source": [
    "\"\"\"Now we generate the trajectories we will use for the whole experiment\"\"\"\n",
    "#Generate the trajectories\n",
    "n_simulations = 100\n",
    "n_steps = 250\n",
    "data, ans = oneD_dataset.generate_linear(n_simulations, n_steps)\n",
    "data_val, ans_val = oneD_dataset.generate_linear(int(n_simulations/2), n_steps)"
   ]
  },
  {
   "cell_type": "markdown",
   "metadata": {
    "pycharm": {}
   },
   "source": []
  },
  {
   "cell_type": "code",
   "execution_count": 35,
   "metadata": {
    "pycharm": {
     "name": "#%%\n"
    }
   },
   "outputs": [
    {
     "name": "stderr",
     "output_type": "stream",
     "text": [
      "100it [00:08, 11.39it/s]\n",
      "100it [00:11,  8.49it/s]\n",
      "100it [00:11,  8.51it/s]\n",
      "100it [00:08, 11.90it/s]\n",
      "100it [00:08, 11.94it/s]\n",
      "100it [00:08, 11.91it/s]\n",
      "100it [00:08, 11.85it/s]\n",
      "100it [00:08, 11.84it/s]\n",
      "100it [00:08, 12.01it/s]\n",
      "100it [00:08, 11.86it/s]\n",
      "C:\\ProgramData\\Anaconda3\\lib\\site-packages\\sklearn\\neural_network\\_multilayer_perceptron.py:585: ConvergenceWarning: Stochastic Optimizer: Maximum iterations (500) reached and the optimization hasn't converged yet.\n",
      "  % self.max_iter, ConvergenceWarning)\n",
      "100it [00:08, 12.01it/s]\n",
      "100it [00:08, 12.06it/s]\n",
      "100it [00:08, 11.98it/s]\n",
      "100it [00:08, 12.22it/s]\n",
      "C:\\ProgramData\\Anaconda3\\lib\\site-packages\\sklearn\\neural_network\\_multilayer_perceptron.py:585: ConvergenceWarning: Stochastic Optimizer: Maximum iterations (500) reached and the optimization hasn't converged yet.\n",
      "  % self.max_iter, ConvergenceWarning)\n",
      "100it [00:08, 11.98it/s]\n",
      "100it [00:08, 12.04it/s]\n",
      "100it [00:08, 12.27it/s]\n",
      "C:\\ProgramData\\Anaconda3\\lib\\site-packages\\sklearn\\neural_network\\_multilayer_perceptron.py:585: ConvergenceWarning: Stochastic Optimizer: Maximum iterations (500) reached and the optimization hasn't converged yet.\n",
      "  % self.max_iter, ConvergenceWarning)\n",
      "100it [00:08, 11.80it/s]\n",
      "C:\\ProgramData\\Anaconda3\\lib\\site-packages\\sklearn\\neural_network\\_multilayer_perceptron.py:585: ConvergenceWarning: Stochastic Optimizer: Maximum iterations (500) reached and the optimization hasn't converged yet.\n",
      "  % self.max_iter, ConvergenceWarning)\n",
      "100it [00:08, 12.08it/s]\n",
      "100it [00:08, 11.97it/s]\n",
      "C:\\ProgramData\\Anaconda3\\lib\\site-packages\\sklearn\\neural_network\\_multilayer_perceptron.py:585: ConvergenceWarning: Stochastic Optimizer: Maximum iterations (500) reached and the optimization hasn't converged yet.\n",
      "  % self.max_iter, ConvergenceWarning)\n",
      "100it [00:08, 11.89it/s]\n",
      "C:\\ProgramData\\Anaconda3\\lib\\site-packages\\sklearn\\neural_network\\_multilayer_perceptron.py:585: ConvergenceWarning: Stochastic Optimizer: Maximum iterations (500) reached and the optimization hasn't converged yet.\n",
      "  % self.max_iter, ConvergenceWarning)\n",
      "100it [00:08, 12.16it/s]\n",
      "C:\\ProgramData\\Anaconda3\\lib\\site-packages\\sklearn\\neural_network\\_multilayer_perceptron.py:585: ConvergenceWarning: Stochastic Optimizer: Maximum iterations (500) reached and the optimization hasn't converged yet.\n",
      "  % self.max_iter, ConvergenceWarning)\n",
      "100it [00:08, 12.31it/s]\n",
      "100it [00:08, 11.88it/s]\n",
      "C:\\ProgramData\\Anaconda3\\lib\\site-packages\\sklearn\\neural_network\\_multilayer_perceptron.py:585: ConvergenceWarning: Stochastic Optimizer: Maximum iterations (500) reached and the optimization hasn't converged yet.\n",
      "  % self.max_iter, ConvergenceWarning)\n",
      "100it [00:08, 11.89it/s]\n",
      "100it [00:08, 11.92it/s]\n",
      "100it [00:08, 11.23it/s]\n",
      "100it [00:08, 12.18it/s]\n",
      "100it [00:08, 12.13it/s]\n",
      "100it [00:08, 11.77it/s]\n",
      "100it [00:08, 11.65it/s]\n",
      "100it [00:08, 12.05it/s]\n",
      "100it [00:08, 11.94it/s]\n",
      "100it [00:08, 12.13it/s]\n",
      "100it [00:08, 12.23it/s]\n",
      "100it [00:08, 11.68it/s]\n",
      "100it [00:08, 11.88it/s]\n",
      "100it [00:08, 11.68it/s]\n",
      "100it [00:08, 12.20it/s]\n",
      "100it [00:08, 11.75it/s]\n",
      "100it [00:08, 12.13it/s]\n",
      "100it [00:08, 12.19it/s]\n",
      "100it [00:08, 11.89it/s]\n",
      "100it [00:08, 11.84it/s]\n",
      "100it [00:08, 11.99it/s]\n",
      "100it [00:08, 11.93it/s]\n",
      "100it [00:08, 12.15it/s]\n",
      "100it [00:08, 12.18it/s]\n",
      "100it [00:08, 11.92it/s]\n"
     ]
    },
    {
     "name": "stdout",
     "output_type": "stream",
     "text": [
      "Accuracy on Train is 56.00000000000001\n",
      "Accuracy on Test set is 56.00000000000001\n",
      "Trained in  0.15490436553955078 seconds\n",
      "Accuracy on Train is 56.00000000000001\n",
      "Accuracy on Test set is 56.00000000000001\n",
      "Trained in  0.14990687370300293 seconds\n",
      "Accuracy on Train is 56.00000000000001\n",
      "Accuracy on Test set is 56.00000000000001\n",
      "Trained in  0.15690398216247559 seconds\n",
      "Accuracy on Train is 56.00000000000001\n",
      "Accuracy on Test set is 56.00000000000001\n",
      "Trained in  0.1309192180633545 seconds\n",
      "Accuracy on Train is 56.00000000000001\n",
      "Accuracy on Test set is 56.00000000000001\n",
      "Trained in  0.1349177360534668 seconds\n",
      "Accuracy on Train is 56.00000000000001\n",
      "Accuracy on Test set is 56.00000000000001\n",
      "Trained in  0.12192440032958984 seconds\n",
      "Accuracy on Train is 56.00000000000001\n",
      "Accuracy on Test set is 56.00000000000001\n",
      "Trained in  0.30181360244750977 seconds\n",
      "Accuracy on Train is 62.4\n",
      "Accuracy on Test set is 61.6\n",
      "Trained in  2.7562992572784424 seconds\n",
      "Accuracy on Train is 80.0\n",
      "Accuracy on Test set is 78.4\n",
      "Trained in  3.071105480194092 seconds\n",
      "Accuracy on Train is 56.00000000000001\n",
      "Accuracy on Test set is 56.00000000000001\n",
      "Trained in  0.754533052444458 seconds\n",
      "Accuracy on Train is 94.13333333333334\n",
      "Accuracy on Test set is 95.19999999999999\n",
      "Trained in  3.2419984340667725 seconds\n",
      "Accuracy on Train is 95.73333333333333\n",
      "Accuracy on Test set is 96.8\n",
      "Trained in  2.9122023582458496 seconds\n",
      "Accuracy on Train is 95.46666666666667\n",
      "Accuracy on Test set is 92.80000000000001\n",
      "Trained in  3.0950891971588135 seconds\n",
      "Accuracy on Train is 96.0\n",
      "Accuracy on Test set is 93.60000000000001\n",
      "Trained in  3.0621094703674316 seconds\n",
      "Accuracy on Train is 97.86666666666667\n",
      "Accuracy on Test set is 98.4\n",
      "Trained in  3.2330050468444824 seconds\n",
      "Accuracy on Train is 97.86666666666667\n",
      "Accuracy on Test set is 98.4\n",
      "Trained in  3.2060205936431885 seconds\n",
      "Accuracy on Train is 97.86666666666667\n",
      "Accuracy on Test set is 98.4\n",
      "Trained in  3.1880319118499756 seconds\n",
      "Accuracy on Train is 98.93333333333332\n",
      "Accuracy on Test set is 99.2\n",
      "Trained in  3.1110799312591553 seconds\n",
      "Accuracy on Train is 98.93333333333332\n",
      "Accuracy on Test set is 99.2\n",
      "Trained in  3.2819745540618896 seconds\n",
      "Accuracy on Train is 98.22222222222223\n",
      "Accuracy on Test set is 99.33333333333333\n",
      "Trained in  4.2004075050354 seconds\n",
      "Accuracy on Train is 100.0\n",
      "Accuracy on Test set is 100.0\n",
      "Trained in  3.206021547317505 seconds\n",
      "Accuracy on Train is 100.0\n",
      "Accuracy on Test set is 100.0\n",
      "Trained in  3.242997646331787 seconds\n",
      "Accuracy on Train is 100.0\n",
      "Accuracy on Test set is 100.0\n",
      "Trained in  3.119075298309326 seconds\n",
      "Accuracy on Train is 100.0\n",
      "Accuracy on Test set is 100.0\n",
      "Trained in  2.795274019241333 seconds\n",
      "Accuracy on Train is 100.0\n",
      "Accuracy on Test set is 100.0\n",
      "Trained in  3.2699813842773438 seconds\n",
      "Accuracy on Train is 100.0\n",
      "Accuracy on Test set is 100.0\n",
      "Trained in  3.150054693222046 seconds\n",
      "Accuracy on Train is 100.0\n",
      "Accuracy on Test set is 100.0\n",
      "Trained in  3.0920908451080322 seconds\n",
      "Accuracy on Train is 100.0\n",
      "Accuracy on Test set is 100.0\n",
      "Trained in  2.624380588531494 seconds\n",
      "Accuracy on Train is 100.0\n",
      "Accuracy on Test set is 100.0\n",
      "Trained in  2.165663480758667 seconds\n",
      "Accuracy on Train is 100.0\n",
      "Accuracy on Test set is 100.0\n",
      "Trained in  3.1590499877929688 seconds\n",
      "Accuracy on Train is 100.0\n",
      "Accuracy on Test set is 100.0\n",
      "Trained in  2.0877132415771484 seconds\n",
      "Accuracy on Train is 100.0\n",
      "Accuracy on Test set is 100.0\n",
      "Trained in  2.0247507095336914 seconds\n",
      "Accuracy on Train is 100.0\n",
      "Accuracy on Test set is 100.0\n",
      "Trained in  1.827871561050415 seconds\n",
      "Accuracy on Train is 100.0\n",
      "Accuracy on Test set is 100.0\n",
      "Trained in  1.600013256072998 seconds\n",
      "Accuracy on Train is 100.0\n",
      "Accuracy on Test set is 100.0\n",
      "Trained in  1.4780876636505127 seconds\n",
      "Accuracy on Train is 100.0\n",
      "Accuracy on Test set is 100.0\n",
      "Trained in  1.5240600109100342 seconds\n",
      "Accuracy on Train is 100.0\n",
      "Accuracy on Test set is 100.0\n",
      "Trained in  1.5180633068084717 seconds\n",
      "Accuracy on Train is 100.0\n",
      "Accuracy on Test set is 100.0\n",
      "Trained in  1.441110610961914 seconds\n",
      "Accuracy on Train is 100.0\n",
      "Accuracy on Test set is 100.0\n",
      "Trained in  1.466095209121704 seconds\n",
      "Accuracy on Train is 100.0\n",
      "Accuracy on Test set is 100.0\n",
      "Trained in  1.5110666751861572 seconds\n",
      "Accuracy on Train is 100.0\n",
      "Accuracy on Test set is 100.0\n",
      "Trained in  1.3051939010620117 seconds\n",
      "Accuracy on Train is 100.0\n",
      "Accuracy on Test set is 100.0\n",
      "Trained in  1.2772114276885986 seconds\n",
      "Accuracy on Train is 100.0\n",
      "Accuracy on Test set is 100.0\n",
      "Trained in  1.3721530437469482 seconds\n",
      "Accuracy on Train is 100.0\n",
      "Accuracy on Test set is 100.0\n",
      "Trained in  1.3941395282745361 seconds\n",
      "Accuracy on Train is 100.0\n",
      "Accuracy on Test set is 100.0\n",
      "Trained in  1.2722148895263672 seconds\n",
      "Accuracy on Train is 100.0\n",
      "Accuracy on Test set is 100.0\n",
      "Trained in  1.2942018508911133 seconds\n",
      "Accuracy on Train is 100.0\n",
      "Accuracy on Test set is 100.0\n",
      "Trained in  1.3651583194732666 seconds\n",
      "Accuracy on Train is 100.0\n",
      "Accuracy on Test set is 100.0\n",
      "Trained in  1.2822082042694092 seconds\n",
      "Accuracy on Train is 100.0\n",
      "Accuracy on Test set is 100.0\n",
      "Trained in  1.3211841583251953 seconds\n"
     ]
    }
   ],
   "source": [
    "from MLTSA_sklearn.models import SKL_Train\n",
    "from sklearn.neural_network import MLPClassifier\n",
    "from MLTSA_sklearn.MLTSA_sk import MLTSA\n",
    "\n",
    "#For loop for MLTSA and Permutation on MLP\n",
    "\n",
    "time_bins = 50\n",
    "time_range = np.linspace(0, n_steps, time_bins)\n",
    "\n",
    "results = {}\n",
    "results[\"MLTSA\"] = []\n",
    "results[\"NN\"] = []\n",
    "results[\"acc\"] = []\n",
    "\n",
    "\n",
    "for t in range(time_bins-1):\n",
    "\n",
    "    time_frame = [int(time_range[t]), int(time_range[t+1])]\n",
    "    X, Y = oneD_dataset.PrepareData(data, ans, time_frame, mode=\"Normal\")\n",
    "    X_val, Y_val = oneD_dataset.PrepareData(data_val, ans_val, time_frame, mode=\"Normal\")\n",
    "\n",
    "    NN = MLPClassifier(random_state=0, verbose=False, max_iter=500)\n",
    "    trained_NN, train_acc, test_acc = SKL_Train(NN, X, Y)\n",
    "\n",
    "    Y_pred = trained_NN.predict(X_val)\n",
    "    val_acc = Y_val == Y_pred\n",
    "    val_acc = np.mean(val_acc)\n",
    "\n",
    "    ADrop_train_avg = MLTSA(data[:,:,int(time_frame[0]):int(time_frame[1])], ans, trained_NN, drop_mode=\"Average\")\n",
    "\n",
    "    results[\"MLTSA\"].append(ADrop_train_avg)\n",
    "    results[\"NN\"].append(trained_NN)\n",
    "    results[\"acc\"].append([train_acc, test_acc, val_acc])"
   ]
  },
  {
   "cell_type": "code",
   "execution_count": 36,
   "metadata": {
    "pycharm": {
     "name": "#%%\n"
    }
   },
   "outputs": [
    {
     "data": {
      "text/plain": [
       "Text(0.5, 0, 'Feature (CV)')"
      ]
     },
     "execution_count": 36,
     "metadata": {},
     "output_type": "execute_result"
    },
    {
     "data": {
      "image/png": "[encoded data removed]",
      "text/plain": [
       "<Figure size 432x288 with 1 Axes>"
      ]
     },
     "metadata": {
      "needs_background": "light"
     },
     "output_type": "display_data"
    },
    {
     "data": {
      "image/png": "[encoded data removed]",
      "text/plain": [
       "<Figure size 432x288 with 1 Axes>"
      ]
     },
     "metadata": {
      "needs_background": "light"
     },
     "output_type": "display_data"
    }
   ],
   "source": [
    "acc = np.array(results[\"acc\"])\n",
    "adrop = np.array(results[\"MLTSA\"])\n",
    "\n",
    "plt.figure()\n",
    "plt.title(\"Accuracy through replicas (MLP)\")\n",
    "plt.plot(acc.T[0]*100,\"-o\",  label=\"Training\",)\n",
    "plt.plot(acc.T[1]*100,\"-o\", label=\"Test\")\n",
    "plt.xlabel(\"Replica\")\n",
    "plt.ylabel(\"Accuracy\")\n",
    "plt.legend()\n",
    "\n",
    "std = np.std(adrop, axis=0)*100\n",
    "mean = np.mean(adrop, axis=0)*100\n",
    "plt.figure()\n",
    "plt.title(\"MLTSA - MLP\")\n",
    "plt.plot(mean)\n",
    "plt.ylabel(\"Accuracy\")\n",
    "plt.xlabel(\"Feature (CV)\")"
   ]
  },
  {
   "cell_type": "code",
   "execution_count": 37,
   "metadata": {
    "collapsed": false,
    "jupyter": {
     "outputs_hidden": false
    },
    "pycharm": {
     "name": "#%%\n"
    }
   },
   "outputs": [
    {
     "data": {
      "text/plain": [
       "<AxesSubplot:>"
      ]
     },
     "execution_count": 37,
     "metadata": {},
     "output_type": "execute_result"
    },
    {
     "data": {
      "image/png": "[encoded data removed]",
      "text/plain": [
       "<Figure size 432x288 with 2 Axes>"
      ]
     },
     "metadata": {
      "needs_background": "light"
     },
     "output_type": "display_data"
    }
   ],
   "source": [
    "import seaborn as sns\n",
    "#plt.figure(figsize=(50,5))\n",
    "#plt.matshow(adrop.T)\n",
    "sns.heatmap(adrop.T)"
   ]
  },
  {
   "cell_type": "code",
   "execution_count": 38,
   "metadata": {
    "collapsed": false,
    "jupyter": {
     "outputs_hidden": false
    },
    "pycharm": {
     "name": "#%%\n"
    }
   },
   "outputs": [
    {
     "data": {
      "image/png": "[encoded data removed]",
      "text/plain": [
       "<Figure size 720x216 with 1 Axes>"
      ]
     },
     "metadata": {
      "needs_background": "light"
     },
     "output_type": "display_data"
    },
    {
     "data": {
      "image/png": "[encoded data removed]",
      "text/plain": [
       "<Figure size 432x72 with 1 Axes>"
      ]
     },
     "metadata": {
      "needs_background": "light"
     },
     "output_type": "display_data"
    }
   ],
   "source": [
    "from MLTSA_sklearn.MLTSA_sk import MLTSA_Plot\n",
    "\n",
    "#We simply get the plot with this\n",
    "MLTSA_Plot(adrop, oneD_dataset, pots, errorbar=False)"
   ]
  },
  {
   "cell_type": "code",
   "execution_count": null,
   "metadata": {
    "collapsed": false,
    "jupyter": {
     "outputs_hidden": false
    },
    "pycharm": {
     "name": "#%%\n"
    }
   },
   "outputs": [],
   "source": []
  },
  {
   "cell_type": "code",
   "execution_count": null,
   "metadata": {
    "collapsed": false,
    "jupyter": {
     "outputs_hidden": false
    },
    "pycharm": {
     "name": "#%%\n"
    }
   },
   "outputs": [],
   "source": []
  },
  {
   "cell_type": "code",
   "execution_count": null,
   "metadata": {
    "collapsed": false,
    "jupyter": {
     "outputs_hidden": false
    },
    "pycharm": {
     "name": "#%%\n"
    }
   },
   "outputs": [],
   "source": []
  },
  {
   "cell_type": "code",
   "execution_count": 39,
   "metadata": {
    "collapsed": false,
    "jupyter": {
     "outputs_hidden": false
    },
    "pycharm": {
     "name": "#%%\n"
    }
   },
   "outputs": [
    {
     "name": "stderr",
     "output_type": "stream",
     "text": [
      "100it [00:06, 14.34it/s]\n",
      "100it [00:06, 15.43it/s]\n",
      "100it [00:07, 13.38it/s]\n",
      "100it [00:07, 13.91it/s]\n",
      "100it [00:07, 13.02it/s]\n",
      "100it [00:07, 12.85it/s]\n",
      "100it [00:07, 13.49it/s]\n",
      "100it [00:07, 13.39it/s]\n",
      "100it [00:08, 12.07it/s]\n",
      "100it [00:07, 13.24it/s]\n",
      "100it [00:07, 13.59it/s]\n",
      "100it [00:07, 13.33it/s]\n",
      "100it [00:07, 13.33it/s]\n",
      "100it [00:07, 13.33it/s]\n",
      "100it [00:07, 13.07it/s]\n",
      "100it [00:07, 13.28it/s]\n",
      "100it [00:07, 13.26it/s]\n",
      "100it [00:07, 13.30it/s]\n",
      "100it [00:07, 13.12it/s]\n",
      "100it [00:08, 12.06it/s]\n",
      "100it [00:07, 12.95it/s]\n",
      "100it [00:07, 13.00it/s]\n",
      "100it [00:07, 13.19it/s]\n",
      "100it [00:07, 12.90it/s]\n",
      "100it [00:07, 12.95it/s]\n",
      "100it [00:08, 12.30it/s]\n",
      "100it [00:08, 12.36it/s]\n",
      "100it [00:08, 12.41it/s]\n",
      "100it [00:08, 12.29it/s]\n",
      "100it [00:07, 13.04it/s]\n",
      "100it [00:08, 12.47it/s]\n",
      "100it [00:07, 12.64it/s]\n",
      "100it [00:07, 12.69it/s]\n",
      "100it [00:08, 12.50it/s]\n",
      "100it [00:08, 12.49it/s]\n",
      "100it [00:08, 12.12it/s]\n",
      "100it [00:08, 12.50it/s]\n",
      "100it [00:08, 12.22it/s]\n",
      "100it [00:07, 12.60it/s]\n",
      "100it [00:07, 12.89it/s]\n",
      "100it [00:07, 12.97it/s]\n",
      "100it [00:07, 12.77it/s]\n",
      "100it [00:07, 12.87it/s]\n",
      "100it [00:07, 12.91it/s]\n",
      "100it [00:07, 13.07it/s]\n"
     ]
    },
    {
     "name": "stdout",
     "output_type": "stream",
     "text": [
      "Accuracy on Train is 56.00000000000001\n",
      "Accuracy on Test set is 56.00000000000001\n",
      "Trained in  1.1372909545898438 seconds\n",
      "Accuracy on Train is 56.00000000000001\n",
      "Accuracy on Test set is 56.00000000000001\n",
      "Trained in  0.5872805118560791 seconds\n",
      "Accuracy on Train is 56.00000000000001\n",
      "Accuracy on Test set is 56.00000000000001\n",
      "Trained in  0.5698509216308594 seconds\n",
      "Accuracy on Train is 79.78666666666666\n",
      "Accuracy on Test set is 81.76\n",
      "Trained in  8.828275442123413 seconds\n",
      "Accuracy on Train is 77.81333333333333\n",
      "Accuracy on Test set is 79.2\n",
      "Trained in  7.4992356300354 seconds\n",
      "Accuracy on Train is 84.10666666666667\n",
      "Accuracy on Test set is 87.68\n",
      "Trained in  10.61309266090393 seconds\n",
      "Accuracy on Train is 93.60000000000001\n",
      "Accuracy on Test set is 92.96\n",
      "Trained in  9.258954763412476 seconds\n",
      "Accuracy on Train is 92.58666666666666\n",
      "Accuracy on Test set is 93.12\n",
      "Trained in  9.15191102027893 seconds\n",
      "Accuracy on Train is 95.73333333333333\n",
      "Accuracy on Test set is 96.16\n",
      "Trained in  5.80917763710022 seconds\n",
      "Accuracy on Train is 96.48\n",
      "Accuracy on Test set is 96.96000000000001\n",
      "Trained in  9.174904584884644 seconds\n",
      "Accuracy on Train is 98.24000000000001\n",
      "Accuracy on Test set is 98.08\n",
      "Trained in  10.829709768295288 seconds\n",
      "Accuracy on Train is 98.50666666666666\n",
      "Accuracy on Test set is 98.08\n",
      "Trained in  7.333570718765259 seconds\n",
      "Accuracy on Train is 98.77333333333334\n",
      "Accuracy on Test set is 98.72\n",
      "Trained in  7.43533730506897 seconds\n",
      "Accuracy on Train is 98.50666666666666\n",
      "Accuracy on Test set is 98.4\n",
      "Trained in  5.831778049468994 seconds\n",
      "Accuracy on Train is 99.25333333333334\n",
      "Accuracy on Test set is 99.52\n",
      "Trained in  7.300745725631714 seconds\n",
      "Accuracy on Train is 98.72\n",
      "Accuracy on Test set is 99.03999999999999\n",
      "Trained in  8.015553951263428 seconds\n",
      "Accuracy on Train is 98.88\n",
      "Accuracy on Test set is 98.88\n",
      "Trained in  4.398705005645752 seconds\n",
      "Accuracy on Train is 99.09333333333333\n",
      "Accuracy on Test set is 99.2\n",
      "Trained in  5.756395578384399 seconds\n",
      "Accuracy on Train is 99.89333333333333\n",
      "Accuracy on Test set is 99.52\n",
      "Trained in  5.861493349075317 seconds\n",
      "Accuracy on Train is 100.0\n",
      "Accuracy on Test set is 100.0\n",
      "Trained in  4.3582611083984375 seconds\n",
      "Accuracy on Train is 100.0\n",
      "Accuracy on Test set is 100.0\n",
      "Trained in  5.875174283981323 seconds\n",
      "Accuracy on Train is 100.0\n",
      "Accuracy on Test set is 100.0\n",
      "Trained in  5.909945011138916 seconds\n",
      "Accuracy on Train is 100.0\n",
      "Accuracy on Test set is 100.0\n",
      "Trained in  4.073016166687012 seconds\n",
      "Accuracy on Train is 100.0\n",
      "Accuracy on Test set is 100.0\n",
      "Trained in  4.113012075424194 seconds\n",
      "Accuracy on Train is 100.0\n",
      "Accuracy on Test set is 100.0\n",
      "Trained in  4.065569877624512 seconds\n",
      "Accuracy on Train is 100.0\n",
      "Accuracy on Test set is 100.0\n",
      "Trained in  4.041047811508179 seconds\n",
      "Accuracy on Train is 100.0\n",
      "Accuracy on Test set is 100.0\n",
      "Trained in  5.437095403671265 seconds\n",
      "Accuracy on Train is 100.0\n",
      "Accuracy on Test set is 100.0\n",
      "Trained in  4.556205749511719 seconds\n",
      "Accuracy on Train is 100.0\n",
      "Accuracy on Test set is 100.0\n",
      "Trained in  3.214060068130493 seconds\n",
      "Accuracy on Train is 100.0\n",
      "Accuracy on Test set is 100.0\n",
      "Trained in  2.7505147457122803 seconds\n",
      "Accuracy on Train is 100.0\n",
      "Accuracy on Test set is 100.0\n",
      "Trained in  2.745152473449707 seconds\n",
      "Accuracy on Train is 100.0\n",
      "Accuracy on Test set is 100.0\n",
      "Trained in  2.4759039878845215 seconds\n",
      "Accuracy on Train is 100.0\n",
      "Accuracy on Test set is 100.0\n",
      "Trained in  2.122352361679077 seconds\n",
      "Accuracy on Train is 100.0\n",
      "Accuracy on Test set is 100.0\n",
      "Trained in  1.8561792373657227 seconds\n",
      "Accuracy on Train is 100.0\n",
      "Accuracy on Test set is 100.0\n",
      "Trained in  1.9101247787475586 seconds\n",
      "Accuracy on Train is 100.0\n",
      "Accuracy on Test set is 100.0\n",
      "Trained in  1.7247979640960693 seconds\n",
      "Accuracy on Train is 100.0\n",
      "Accuracy on Test set is 100.0\n",
      "Trained in  1.768071174621582 seconds\n",
      "Accuracy on Train is 100.0\n",
      "Accuracy on Test set is 100.0\n",
      "Trained in  1.783599853515625 seconds\n",
      "Accuracy on Train is 100.0\n",
      "Accuracy on Test set is 100.0\n",
      "Trained in  1.6847476959228516 seconds\n",
      "Accuracy on Train is 100.0\n",
      "Accuracy on Test set is 100.0\n",
      "Trained in  1.6654090881347656 seconds\n",
      "Accuracy on Train is 100.0\n",
      "Accuracy on Test set is 100.0\n",
      "Trained in  1.6211762428283691 seconds\n",
      "Accuracy on Train is 100.0\n",
      "Accuracy on Test set is 100.0\n",
      "Trained in  1.5831732749938965 seconds\n",
      "Accuracy on Train is 100.0\n",
      "Accuracy on Test set is 100.0\n",
      "Trained in  1.73374342918396 seconds\n",
      "Accuracy on Train is 100.0\n",
      "Accuracy on Test set is 100.0\n",
      "Trained in  1.6311497688293457 seconds\n",
      "Accuracy on Train is 100.0\n",
      "Accuracy on Test set is 100.0\n",
      "Trained in  1.5430917739868164 seconds\n"
     ]
    },
    {
     "ename": "ValueError",
     "evalue": "could not broadcast input array from shape (25) into shape (0)",
     "traceback": [
      "\u001b[1;31m---------------------------------------------------------------------------\u001b[0m",
      "\u001b[1;31mValueError\u001b[0m                                Traceback (most recent call last)",
      "\u001b[1;32m~\\AppData\\Local\\Temp/ipykernel_36412/2891672884.py\u001b[0m in \u001b[0;36m<module>\u001b[1;34m\u001b[0m\n\u001b[0;32m     18\u001b[0m \u001b[1;33m\u001b[0m\u001b[0m\n\u001b[0;32m     19\u001b[0m     \u001b[0mtime_frame\u001b[0m \u001b[1;33m=\u001b[0m \u001b[1;33m[\u001b[0m\u001b[0mint\u001b[0m\u001b[1;33m(\u001b[0m\u001b[0mtime_range\u001b[0m\u001b[1;33m[\u001b[0m\u001b[0mt\u001b[0m\u001b[1;33m]\u001b[0m\u001b[1;33m)\u001b[0m\u001b[1;33m,\u001b[0m \u001b[0mint\u001b[0m\u001b[1;33m(\u001b[0m\u001b[0mtime_range\u001b[0m\u001b[1;33m[\u001b[0m\u001b[0mt\u001b[0m\u001b[1;33m]\u001b[0m\u001b[1;33m+\u001b[0m\u001b[1;36m25\u001b[0m\u001b[1;33m)\u001b[0m\u001b[1;33m]\u001b[0m\u001b[1;33m\u001b[0m\u001b[1;33m\u001b[0m\u001b[0m\n\u001b[1;32m---> 20\u001b[1;33m     \u001b[0mX\u001b[0m\u001b[1;33m,\u001b[0m \u001b[0mY\u001b[0m \u001b[1;33m=\u001b[0m \u001b[0moneD_dataset\u001b[0m\u001b[1;33m.\u001b[0m\u001b[0mPrepareData\u001b[0m\u001b[1;33m(\u001b[0m\u001b[0mdata\u001b[0m\u001b[1;33m,\u001b[0m \u001b[0mans\u001b[0m\u001b[1;33m,\u001b[0m \u001b[0mtime_frame\u001b[0m\u001b[1;33m,\u001b[0m \u001b[0mmode\u001b[0m\u001b[1;33m=\u001b[0m\u001b[1;34m\"Normal\"\u001b[0m\u001b[1;33m)\u001b[0m\u001b[1;33m\u001b[0m\u001b[1;33m\u001b[0m\u001b[0m\n\u001b[0m\u001b[0;32m     21\u001b[0m     \u001b[0mX_val\u001b[0m\u001b[1;33m,\u001b[0m \u001b[0mY_val\u001b[0m \u001b[1;33m=\u001b[0m \u001b[0moneD_dataset\u001b[0m\u001b[1;33m.\u001b[0m\u001b[0mPrepareData\u001b[0m\u001b[1;33m(\u001b[0m\u001b[0mdata_val\u001b[0m\u001b[1;33m,\u001b[0m \u001b[0mans_val\u001b[0m\u001b[1;33m,\u001b[0m \u001b[0mtime_frame\u001b[0m\u001b[1;33m,\u001b[0m \u001b[0mmode\u001b[0m\u001b[1;33m=\u001b[0m\u001b[1;34m\"Normal\"\u001b[0m\u001b[1;33m)\u001b[0m\u001b[1;33m\u001b[0m\u001b[1;33m\u001b[0m\u001b[0m\n\u001b[0;32m     22\u001b[0m \u001b[1;33m\u001b[0m\u001b[0m\n",
      "\u001b[1;32mC:\\ProgramData\\Anaconda3\\lib\\site-packages\\MLTSA_datasets\\OneD_pot\\OneD_pot_data.py\u001b[0m in \u001b[0;36mPrepareData\u001b[1;34m(self, data, ans, time_frame, mode)\u001b[0m\n\u001b[0;32m    291\u001b[0m             \u001b[0mtmp_ans\u001b[0m \u001b[1;33m=\u001b[0m \u001b[0mnp\u001b[0m\u001b[1;33m.\u001b[0m\u001b[0mones\u001b[0m\u001b[1;33m(\u001b[0m\u001b[0mframes\u001b[0m\u001b[1;33m)\u001b[0m\u001b[1;33m.\u001b[0m\u001b[0mastype\u001b[0m\u001b[1;33m(\u001b[0m\u001b[0mstr\u001b[0m\u001b[1;33m)\u001b[0m\u001b[1;33m\u001b[0m\u001b[1;33m\u001b[0m\u001b[0m\n\u001b[0;32m    292\u001b[0m             \u001b[0mtmp_ans\u001b[0m\u001b[1;33m[\u001b[0m\u001b[1;33m:\u001b[0m\u001b[1;33m]\u001b[0m \u001b[1;33m=\u001b[0m \u001b[0manswer\u001b[0m\u001b[1;33m\u001b[0m\u001b[1;33m\u001b[0m\u001b[0m\n\u001b[1;32m--> 293\u001b[1;33m             \u001b[0mY\u001b[0m\u001b[1;33m[\u001b[0m\u001b[0mn\u001b[0m \u001b[1;33m*\u001b[0m \u001b[0mframes\u001b[0m\u001b[1;33m:\u001b[0m\u001b[0mn\u001b[0m \u001b[1;33m*\u001b[0m \u001b[0mframes\u001b[0m \u001b[1;33m+\u001b[0m \u001b[0mframes\u001b[0m\u001b[1;33m]\u001b[0m \u001b[1;33m=\u001b[0m \u001b[0mtmp_ans\u001b[0m\u001b[1;33m\u001b[0m\u001b[1;33m\u001b[0m\u001b[0m\n\u001b[0m\u001b[0;32m    294\u001b[0m \u001b[1;33m\u001b[0m\u001b[0m\n\u001b[0;32m    295\u001b[0m         \u001b[1;32mif\u001b[0m \u001b[0mmode\u001b[0m \u001b[1;33m==\u001b[0m \u001b[1;34m\"Normal\"\u001b[0m\u001b[1;33m:\u001b[0m\u001b[1;33m\u001b[0m\u001b[1;33m\u001b[0m\u001b[0m\n",
      "\u001b[1;31mValueError\u001b[0m: could not broadcast input array from shape (25) into shape (0)"
     ],
     "output_type": "error"
    }
   ],
   "source": [
    "from MLTSA_sklearn.models import SKL_Train\n",
    "from sklearn.neural_network import MLPClassifier\n",
    "from MLTSA_sklearn.MLTSA_sk import MLTSA\n",
    "\n",
    "#For loop for MLTSA and Permutation on MLP\n",
    "\n",
    "time_bins = 50\n",
    "time_range = np.linspace(0, n_steps, time_bins)\n",
    "region = 25\n",
    "\n",
    "results_d = {}\n",
    "results_d[\"MLTSA\"] = []\n",
    "results_d[\"NN\"] = []\n",
    "results_d[\"acc\"] = []\n",
    "\n",
    "\n",
    "for t in range(time_bins-1):\n",
    "\n",
    "    time_frame = [int(time_range[t]), int(time_range[t]+25)]\n",
    "    X, Y = oneD_dataset.PrepareData(data, ans, time_frame, mode=\"Normal\")\n",
    "    X_val, Y_val = oneD_dataset.PrepareData(data_val, ans_val, time_frame, mode=\"Normal\")\n",
    "\n",
    "    NN = MLPClassifier(random_state=0, verbose=False, max_iter=500)\n",
    "    trained_NN, train_acc, test_acc = SKL_Train(NN, X, Y)\n",
    "\n",
    "    Y_pred = trained_NN.predict(X_val)\n",
    "    val_acc = Y_val == Y_pred\n",
    "    val_acc = np.mean(val_acc)\n",
    "\n",
    "    ADrop_train_avg = MLTSA(data[:,:,int(time_frame[0]):int(time_frame[1])], ans, trained_NN, drop_mode=\"Average\")\n",
    "\n",
    "    results_d[\"MLTSA\"].append(ADrop_train_avg)\n",
    "    results_d[\"NN\"].append(trained_NN)\n",
    "    results_d[\"acc\"].append([train_acc, test_acc, val_acc])"
   ]
  },
  {
   "cell_type": "code",
   "execution_count": 40,
   "metadata": {
    "pycharm": {
     "name": "#%%\n"
    }
   },
   "outputs": [
    {
     "data": {
      "text/plain": [
       "Text(0.5, 0, 'Feature (CV)')"
      ]
     },
     "execution_count": 40,
     "metadata": {},
     "output_type": "execute_result"
    },
    {
     "data": {
      "image/png": "[encoded data removed]",
      "text/plain": [
       "<Figure size 432x288 with 1 Axes>"
      ]
     },
     "metadata": {
      "needs_background": "light"
     },
     "output_type": "display_data"
    },
    {
     "data": {
      "image/png": "[encoded data removed]",
      "text/plain": [
       "<Figure size 432x288 with 1 Axes>"
      ]
     },
     "metadata": {
      "needs_background": "light"
     },
     "output_type": "display_data"
    }
   ],
   "source": [
    "acc = np.array(results_d[\"acc\"])\n",
    "adrop = np.array(results_d[\"MLTSA\"])\n",
    "\n",
    "plt.figure()\n",
    "plt.title(\"Accuracy through replicas (MLP)\")\n",
    "plt.plot(acc.T[0]*100,\"-o\",  label=\"Training\",)\n",
    "plt.plot(acc.T[1]*100,\"-o\", label=\"Test\")\n",
    "plt.xlabel(\"Replica\")\n",
    "plt.ylabel(\"Accuracy\")\n",
    "plt.legend()\n",
    "\n",
    "std = np.std(adrop, axis=0)*100\n",
    "mean = np.mean(adrop, axis=0)*100\n",
    "plt.figure()\n",
    "plt.title(\"MLTSA - MLP\")\n",
    "plt.plot(mean)\n",
    "plt.ylabel(\"Accuracy\")\n",
    "plt.xlabel(\"Feature (CV)\")\n"
   ]
  },
  {
   "cell_type": "code",
   "execution_count": 58,
   "metadata": {
    "pycharm": {
     "name": "#%%\n"
    }
   },
   "outputs": [
    {
     "data": {
      "text/plain": [
       "<AxesSubplot:>"
      ]
     },
     "execution_count": 58,
     "metadata": {},
     "output_type": "execute_result"
    },
    {
     "data": {
      "image/png": "[encoded data removed]",
      "text/plain": [
       "<Figure size 432x288 with 2 Axes>"
      ]
     },
     "metadata": {
      "needs_background": "light"
     },
     "output_type": "display_data"
    }
   ],
   "source": [
    "import seaborn as sns\n",
    "#plt.figure(figsize=(50,5))\n",
    "#plt.matshow(adrop.T)\n",
    "sns.heatmap(adrop.T)\n"
   ]
  },
  {
   "cell_type": "code",
   "execution_count": 70,
   "metadata": {
    "collapsed": false,
    "jupyter": {
     "outputs_hidden": false
    },
    "pycharm": {
     "name": "#%%\n"
    }
   },
   "outputs": [
    {
     "name": "stdout",
     "output_type": "stream",
     "text": [
      "0 0.56\n",
      "0 0.56\n",
      "0 0.56\n",
      "78 0.7924000000000001\n",
      "78 0.772\n",
      "78 0.8263999999999999\n",
      "78 0.9264\n",
      "123 0.9232\n",
      "40 0.9560000000000002\n",
      "39 0.96\n",
      "14 0.9803999999999999\n",
      "123 0.9795999999999999\n",
      "123 0.9840000000000001\n",
      "92 0.982\n",
      "10 0.9924\n",
      "39 0.986\n",
      "39 0.9856\n",
      "39 0.9840000000000001\n",
      "123 0.996\n",
      "123 0.998\n",
      "0 1.0\n",
      "0 1.0\n",
      "0 1.0\n",
      "0 1.0\n",
      "0 1.0\n",
      "0 1.0\n",
      "0 1.0\n",
      "0 1.0\n",
      "0 1.0\n",
      "0 1.0\n",
      "0 1.0\n",
      "0 1.0\n",
      "0 1.0\n",
      "0 1.0\n",
      "0 1.0\n",
      "0 1.0\n",
      "0 1.0\n",
      "0 1.0\n",
      "0 1.0\n",
      "0 1.0\n",
      "0 1.0\n",
      "0 1.0\n",
      "0 1.0\n",
      "0 1.0\n",
      "0 1.0\n"
     ]
    },
    {
     "data": {
      "image/png": "[encoded data removed]",
      "text/plain": [
       "<Figure size 432x288 with 1 Axes>"
      ]
     },
     "metadata": {
      "needs_background": "light"
     },
     "output_type": "display_data"
    }
   ],
   "source": [
    "for n,feat in enumerate(adrop):\n",
    "    print(np.argmin(feat), feat[np.argmin(feat)])\n",
    "    plt.scatter(n,np.argmin(feat), color=\"r\" )"
   ]
  },
  {
   "cell_type": "code",
   "execution_count": null,
   "metadata": {
    "collapsed": false,
    "jupyter": {
     "outputs_hidden": false
    },
    "pycharm": {
     "is_executing": true,
     "name": "#%%\n"
    }
   },
   "outputs": [],
   "source": [
    "plt.figure()\n",
    "plt.title(\"MLTSA - MLP\")\n",
    "plt.plot(adrop[0])\n",
    "plt.ylabel(\"Accuracy\")\n",
    "plt.xlabel(\"Feature (CV)\")"
   ]
  },
  {
   "cell_type": "code",
   "execution_count": 71,
   "metadata": {
    "collapsed": false,
    "jupyter": {
     "outputs_hidden": false
    },
    "pycharm": {
     "name": "#%%\n"
    }
   },
   "outputs": [],
   "source": []
  },
  {
   "cell_type": "code",
   "execution_count": 71,
   "metadata": {
    "collapsed": false,
    "jupyter": {
     "outputs_hidden": false
    },
    "pycharm": {
     "name": "#%%\n"
    }
   },
   "outputs": [],
   "source": []
  },
  {
   "cell_type": "code",
   "execution_count": null,
   "metadata": {
    "collapsed": false,
    "jupyter": {
     "outputs_hidden": false
    },
    "pycharm": {
     "name": "#%%\n"
    }
   },
   "outputs": [],
   "source": []
  },
  {
   "cell_type": "code",
   "execution_count": null,
   "metadata": {
    "collapsed": false,
    "jupyter": {
     "outputs_hidden": false
    },
    "pycharm": {
     "name": "#%%\n"
    }
   },
   "outputs": [],
   "source": [
    "obj = CVclass(n_features)"
   ]
  },
  {
   "cell_type": "markdown",
   "metadata": {
    "pycharm": {
     "name": "#%% md\n"
    }
   },
   "source": []
  }
 ],
 "metadata": {
  "kernelspec": {
   "display_name": "Python 3 (ipykernel)",
   "language": "python",
   "name": "python3"
  },
  "language_info": {
   "codemirror_mode": {
    "name": "ipython",
    "version": 3
   },
   "file_extension": ".py",
   "mimetype": "text/x-python",
   "name": "python",
   "nbconvert_exporter": "python",
   "pygments_lexer": "ipython3",
   "version": "3.7.9"
  },
  "stem_cell": {
   "cell_type": "raw",
   "metadata": {
    "pycharm": {
     "metadata": false
    }
   },
   "source": ""
  }
 },
 "nbformat": 4,
 "nbformat_minor": 4
}
