{
 "cells": [
  {
   "cell_type": "markdown",
   "metadata": {
    "pycharm": {
     "metadata": false,
     "name": "#%% md\n"
    }
   },
   "source": [
    "# OpenMM MLTSA example"
   ]
  },
  {
   "cell_type": "code",
   "execution_count": null,
   "metadata": {
    "pycharm": {
     "metadata": false,
     "name": "#%%\n"
    }
   },
   "outputs": [],
   "source": [
    "from openmmtools import testsystems\n",
    "import numpy as np \n",
    "import mdtraj as md \n",
    "import matplotlib.pyplot as plt \n",
    "import pandas as pd \n",
    "import seaborn as sns \n",
    "from simtk import openmm, unit\n",
    "from simtk.openmm import app\n",
    "from simtk.openmm.app import *\n",
    "from simtk.openmm import *\n",
    "from simtk.unit import *\n",
    "from sys import stdout\n",
    "\n"
   ]
  },
  {
   "cell_type": "code",
   "execution_count": null,
   "metadata": {
    "pycharm": {
     "metadata": false,
     "name": "#%%\n"
    }
   },
   "outputs": [],
   "source": [
    "pdb = PDBFile(\"topology_new.pdb\")\n",
    "modeller = Modeller(pdb.topology, pdb.positions)\n",
    "# ... Call some modelling functions here ...\n",
    "modeller.addSolvent(forcefield)\n",
    "system = forcefield.createSystem(modeller.topology, nonbondedMethod=PME)\n",
    "integrator = LangevinIntegrator(300*kelvin, 1/picosecond, 0.002*picoseconds)\n",
    "simulation = Simulation(modeller.topology, system, integrator)\n",
    "simulation.context.setPositions(modeller.positions)\n"
   ]
  },
  {
   "cell_type": "code",
   "execution_count": null,
   "metadata": {
    "pycharm": {
     "metadata": false,
     "name": "#%%\n"
    }
   },
   "outputs": [],
   "source": [
    "%%time\n",
    "n_replicas = 10\n",
    "reportInterval = 1000\n",
    "for n in range(n_replicas):\n",
    "    system = forcefield.createSystem(modeller.topology, nonbondedMethod=PME)\n",
    "    integrator = LangevinIntegrator(300*kelvin, 1/picosecond, 0.002*picoseconds)\n",
    "    simulation = Simulation(modeller.topology, system, integrator)\n",
    "    simulation.context.setPositions(modeller.positions)\n",
    "    simulation.minimizeEnergy()\n",
    "    simulation.reporters.append(md.reporters.HDF5Reporter('NaCl_R{}.h5'.format(n), reportInterval, coordinates=True, time=True, cell=True, potentialEnergy=True, temperature=True))\n",
    "    simulation.reporters.append(StateDataReporter(stdout, 100000, step=True, potentialEnergy=True, temperature=True))\n",
    "    simulation.step(1000000)\n",
    "    del simulation\n",
    "    print(\"Simulation\", n, \" Finished\")"
   ]
  }
 ],
 "metadata": {
  "language_info": {
   "codemirror_mode": {
    "name": "ipython",
    "version": 2
   },
   "file_extension": ".py",
   "mimetype": "text/x-python",
   "name": "python",
   "nbconvert_exporter": "python",
   "pygments_lexer": "ipython2",
   "version": "2.7.6"
  },
  "kernelspec": {
   "name": "pycharm-926e1178",
   "language": "python",
   "display_name": "PyCharm (MLTSA)"
  },
  "stem_cell": {
   "cell_type": "raw",
   "source": "",
   "metadata": {
    "pycharm": {
     "metadata": false
    }
   }
  }
 },
 "nbformat": 4,
 "nbformat_minor": 0
}
